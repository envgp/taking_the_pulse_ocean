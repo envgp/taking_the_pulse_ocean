{
  "cells": [
    {
      "cell_type": "markdown",
      "metadata": {
        "id": "view-in-github",
        "colab_type": "text"
      },
      "source": [
        "<a href=\"https://colab.research.google.com/github/envgp/taking_the_pulse_ocean/blob/master/pulse_ocean_with_answers.ipynb\" target=\"_parent\"><img src=\"https://colab.research.google.com/assets/colab-badge.svg\" alt=\"Open In Colab\"/></a>"
      ]
    },
    {
      "cell_type": "markdown",
      "id": "c72351b4",
      "metadata": {
        "id": "c72351b4"
      },
      "source": [
        "# Week 3: Taking the Pulse of the Oceans & Fishing Activity\n",
        "\n",
        "2023-01-26\n",
        "\n",
        "Shin Nakayama (shinn1@stanford.edu) & Fio Micheli (micheli@stanford.edu)\n",
        "\n",
        "[Stanford Center for Ocean Solutions](https://oceansolutions.stanford.edu), Doerr School of Sustainability"
      ]
    },
    {
      "cell_type": "markdown",
      "id": "854a877a",
      "metadata": {
        "id": "854a877a"
      },
      "source": [
        "This lab is supposed be submitted by January 31, 2023. You are supposed to put your answer questions within this notebook and share the completed notebook with shinn1@stanford.edu using the `Share` banner located at the top right corner of this notebook. When sharing your notebook, please change the name of the notebook and add your name and sunetid (e.g., `3_hydrosphere_oceans_firstname_lastname_sunetid.ipynb`)"
      ]
    },
    {
      "cell_type": "markdown",
      "id": "d475373c",
      "metadata": {
        "id": "d475373c"
      },
      "source": [
        "## INTRODUCTION TO THE ASSIGNMENT\n",
        "Fisheries play a vital role in our food security, economy and ecosystem, while posing significant impacts on the oceans. Industrialization of fisheries has allowed us to catch more fish with engine-powered fishing fleets and gears. Non-selective fishing gears have let bycatch of unwanted and endangered species, while bottom trawlers have killed coral reefs by dragging the nets over seabeds. Currently, 35% of the fish population is overfished, and a study predicts that there will be no fish in the ocean by 2048, calling for better fisheries management.\n",
        "\n",
        "Data sets used this assignment are: 1) global fishing effort, 2) regional fishing effort, 3) ocean chlorophyll a and sea surface temperature, and 4) shapefile of exclusive economic zones (EEZ).  \n",
        "1. `fishing_hours.parquet` &mdash; A pre-processed grid data of daily fishing hours from 2016-01-01 to 2021-12-31, sumed within 1 × 1-degree grids. The original data are composed of locations, timestamp, and fishing hours associated with each AIS signal. Data taken from [Global Fishing Watch](https://globalfishingwatch.org).\n",
        "    - `date`: year-month-day\n",
        "    - `lat`: latitude\n",
        "    - `lon`: longitude\n",
        "    - `gear`: fishing gear type (trawlers, purse seines, etc.)\n",
        "    - `flag`: vessel flag in ISO 3 code (that is, State which a vessel is registered to)\n",
        "    - `fishing_hours`: total fishing hours in a 1 x 1-degree grid\n",
        "2. `fishing_hours_x.parquet` &mdash; A pre-processed grid data of daily fishing hours from 2016-01-01 to 2021-12-31, sumed within 0.1 × 0.1-degree grids, for specific regions (40 × 40 degrees).\n",
        "    - `fishing_hours_peru.parquet`: Near Peru with longitude [-100, -60] and latitude [-30, 10]\n",
        "    - `fishing_hours_w_africa.parquet`: Near West Africa with longitude [-40, 0] and latitude [-10, 30]\n",
        "    - `fishing_hours_falkland.parquet`: Near Falkland Islands with longitude [-70, -30] and latitude [-70, 30]\n",
        "    - `fishing_hours_pacific.parquet` : in the Pacific with longitude [140, 180] and latitude [-35, 5]    \n",
        "3. `modis.parquet` &mdash; A pre-processed grid data of monthly mean measurements by MODIS AQUA sensor from 2016-01 to 2021-12, averaged within 1 × 1-degree grids. Data taken from [NASA MODIS Terra satellite imagery](https://developers.google.com/earth-engine/datasets/catalog/NASA_OCEANDATA_MODIS-Terra_L3SMI). \n",
        "    - `month`: year-month\n",
        "    - `sst`: sea surface temperature (°C)\n",
        "    - `chlor_a`: chlorophyll a concentration (mg/m<sup>3</sup>)\n",
        "4. `SAU_EEZ` &mdash; shapefile of Exclusive Economic Zones (EEZ). Data taken from [Sea Around US](https://www.seaaroundus.org)."
      ]
    },
    {
      "cell_type": "markdown",
      "id": "fe880e27",
      "metadata": {
        "id": "fe880e27"
      },
      "source": [
        "### The Learning Goals for the week:\n",
        "(where the course learning goals are in plain text, and the focus this week is in italics)\n",
        "\n",
        "Students will:\n",
        "- learn about the ways in which climate change and human activity are impacting planet Earth, *with a focus this week on fishing activities in response to climates.*\n",
        "\n",
        "- become familiar with the wide range of sensors available to study various components of the Earth system. These include sensors on satellites, aircraft, ground-based platforms, and deployed above or beneath the surface on land or water. *This week we will use vessel-borne GPS data on the Automatic Identification System (AIS) for fishing effort and MODIS satellite imagery data for ocean productivity and temperature.* \n",
        "\n",
        "- become familiar with the basic physical principles (resolution, sampling, processing workflows, etc.) common to all sensors. *This week we will use data with different sampling frequencies and resolutions.*\n",
        "\n",
        "- work with various sources of data, learning how to access, analyze, synthesize, and describe the data to quantify trends; think critically and creatively about how to project these trends into the future. *This week we will describe the spatial and temporal patterns of the data.*\n",
        "\n",
        "- describe the complex interactions between human activity and various components of the Earth system. *This week we will explore the potential drivers of fishing activities by overlaying different datasets on the same plots and with statistics such as linear regression and cross-correlation.*\n",
        "\n",
        "- become motivated to think about new sensors and new ways of using sensor data to study the planet. This is always the last question in each assignment."
      ]
    },
    {
      "cell_type": "markdown",
      "id": "8133df14",
      "metadata": {
        "id": "8133df14"
      },
      "source": [
        "## OVERVIEW OF THE ASSIGNMENT\n",
        "\n",
        "### I. Understand Global Patterns of Fishing Activity\n",
        "With climate changes taking place at an alarming rate, it is necessary to understand how fishing activities respond to climates toward effective fisheries management and sustainable fisheries. Here, we will discuss the spatial and temporal patterns of fishing activities at a global scale. For example, where do you find the hotspots? Is there seasonality? Is there a latitudinal gradient? If so, why?\n",
        "\n",
        "\n",
        "### II. Explore Drivers Underlying Fishing Effort\n",
        "Considering that humans are the top fish predators equipped with highly-advanced sensors and gears, understanding the drivers of fishing activity is the first step toward effective fisheries management and sustainable ocean use in the future. Here, we will explore the relationship between fishing effort and biological factors. Further, we will observe how social and geopolitical factors may influence fishing activity.\n",
        "\n",
        "\n",
        "### III. Taking the Pulse in the Future\n",
        "We conclude with the usual question – what’s next?"
      ]
    },
    {
      "cell_type": "markdown",
      "id": "eccf2020",
      "metadata": {
        "id": "eccf2020"
      },
      "source": [
        "## THE ASSIGNMENT"
      ]
    },
    {
      "cell_type": "markdown",
      "id": "21546261",
      "metadata": {
        "id": "21546261"
      },
      "source": [
        "## I. Understand Global Patterns of Fishing Activity\n",
        "\n",
        "Fishing activity can be inferred from the automatic information system (AIS). Originally to avoid collision at sea, distant-water fishing fleets are required by International Maritime Organization to transmit their positions at sea. From their movement patterns, we can infer whether a vessel is fishing or non-fishing using a machine-learning approach (see [this paper](https://journals.plos.org/plosone/article?id=10.1371%2Fjournal.pone.0158248) for details). The AIS data are processed and curated by [Global Fishing Watch](https://globalfishingwatch.org), a non-profitable organization with a mission of transparency for sustainable fisheries."
      ]
    },
    {
      "cell_type": "markdown",
      "id": "9ec3da66",
      "metadata": {
        "id": "9ec3da66"
      },
      "source": [
        "**Q:** Observe the spatial and temporal patterns of global fishing activities and discuss the possible drivers."
      ]
    },
    {
      "cell_type": "code",
      "source": [
        "!pip install xarray numpy pandas geopandas cartopy==0.19.0.post1 ipywidgets statsmodels"
      ],
      "metadata": {
        "id": "4_pkhLL_5xEj"
      },
      "id": "4_pkhLL_5xEj",
      "execution_count": null,
      "outputs": []
    },
    {
      "cell_type": "code",
      "source": [
        "!pip uninstall -y shapely"
      ],
      "metadata": {
        "id": "T87VHkDZbEL2"
      },
      "id": "T87VHkDZbEL2",
      "execution_count": null,
      "outputs": []
    },
    {
      "cell_type": "code",
      "source": [
        "!pip install shapely --no-binary shapely"
      ],
      "metadata": {
        "id": "uYDrlbDg_33s"
      },
      "id": "uYDrlbDg_33s",
      "execution_count": null,
      "outputs": []
    },
    {
      "cell_type": "code",
      "source": [
        "!git clone https://premonition.stanford.edu/sgkang09/taking_the_pulse_ocean_data.git"
      ],
      "metadata": {
        "id": "DGI7YC0IPvSE"
      },
      "id": "DGI7YC0IPvSE",
      "execution_count": null,
      "outputs": []
    },
    {
      "cell_type": "code",
      "execution_count": null,
      "id": "45cd5f49",
      "metadata": {
        "id": "45cd5f49"
      },
      "outputs": [],
      "source": [
        "import numpy as np\n",
        "import pandas as pd\n",
        "import geopandas as gpd \n",
        "import matplotlib.pyplot as plt\n",
        "import matplotlib.dates as mdates\n",
        "from matplotlib.colors import LogNorm\n",
        "import seaborn as sns\n",
        "import xarray as xr\n",
        "import cartopy.crs as ccrs\n",
        "import cartopy.feature as cf\n",
        "import itertools\n",
        "import statsmodels.api as sm\n",
        "import warnings\n",
        "warnings.filterwarnings('ignore')"
      ]
    },
    {
      "cell_type": "code",
      "execution_count": null,
      "id": "250a9377",
      "metadata": {
        "id": "250a9377"
      },
      "outputs": [],
      "source": [
        "# load data\n",
        "fish = pd.read_parquet('./taking_the_pulse_ocean_data/fishing_hours.parquet')\n",
        "fish.head()"
      ]
    },
    {
      "cell_type": "code",
      "execution_count": null,
      "id": "8e4841cf",
      "metadata": {
        "id": "8e4841cf"
      },
      "outputs": [],
      "source": [
        "# standardize fishing hours to unit area\n",
        "# 1 degree is roughly 111 km at the equator and smaller at higher latitudes\n",
        "fish['area_km2'] = 111 * 111 * np.cos(fish['lat'] * np.pi / 180)\n",
        "fish['area_km2'] = fish['area_km2'].astype(float) #convert numpy float to pandas float\n",
        "fish['fishing_hours_km2'] = fish['fishing_hours']/fish['area_km2']\n",
        "\n",
        "# convert string to datetime object\n",
        "fish['date'] = pd.to_datetime(fish['date'], format='%Y-%m-%d')\n",
        "\n",
        "# sum within grids\n",
        "summary = fish[['lat', 'lon', 'fishing_hours_km2']].groupby(['lat', 'lon']).sum()\n",
        "summary.head()"
      ]
    },
    {
      "cell_type": "code",
      "execution_count": null,
      "id": "55c8a96d",
      "metadata": {
        "id": "55c8a96d"
      },
      "outputs": [],
      "source": [
        "# convert to xarray object for plotting\n",
        "foo = summary.to_xarray()\n",
        "foo['lat'] = foo['lat'].astype(int)\n",
        "foo['lon'] = foo['lon'].astype(int)\n",
        "# plot on a log scale\n",
        "plt.figure(figsize=(16, 6))\n",
        "ax = plt.axes(projection=ccrs.PlateCarree())\n",
        "ax.axes.add_feature(cf.LAND, color='#000', linewidth=0);\n",
        "foo['fishing_hours_km2'].plot(\n",
        "    cmap=\"magma_r\",\n",
        "    norm=LogNorm(vmin=0.1, vmax=foo['fishing_hours_km2'].max()),\n",
        "    ax=ax, \n",
        "    add_colorbar=False\n",
        ")"
      ]
    },
    {
      "cell_type": "code",
      "execution_count": null,
      "id": "76668536",
      "metadata": {
        "id": "76668536"
      },
      "outputs": [],
      "source": [
        "# plot total fishing hours over time\n",
        "foo = fish[['date', 'fishing_hours']].groupby('date').sum()\n",
        "fig = plt.figure(figsize=(16, 6))\n",
        "ax = plt.subplot(111)\n",
        "# sns.lineplot(x=foo.index, y=foo['fishing_hours'],legend=False)\n",
        "foo.plot(ax=ax)\n",
        "ax.set_xlabel('Year')\n",
        "ax.set_ylabel('Fishing hours')\n",
        "fmt_month = mdates.MonthLocator()\n",
        "ax.xaxis.set_minor_locator(fmt_month)\n",
        "ax.grid(True, which='both', alpha=0.2)\n",
        "fig.autofmt_xdate()"
      ]
    },
    {
      "cell_type": "code",
      "source": [
        "# plot latitudinal gradient over time\n",
        "foo = fish.pivot_table(columns='date', index='lat', values='fishing_hours_km2', aggfunc=np.sum)\n",
        "fig, ax = plt.subplots(1,1, figsize=(16, 6))\n",
        "times = list(foo.columns)\n",
        "lat = list(foo.index)\n",
        "ax.pcolormesh(times, lat, foo.values, cmap='magma_r')\n",
        "ax.set_xlabel('Year')\n",
        "ax.set_ylabel('Latitude')\n",
        "fmt_month = mdates.MonthLocator()\n",
        "ax.xaxis.set_minor_locator(fmt_month)\n",
        "ax.grid(True, which='both', alpha=0.2)\n",
        "fig.autofmt_xdate()"
      ],
      "metadata": {
        "id": "egAO-eO8qK98"
      },
      "id": "egAO-eO8qK98",
      "execution_count": null,
      "outputs": []
    },
    {
      "cell_type": "code",
      "execution_count": null,
      "id": "d9bb08f5",
      "metadata": {
        "id": "d9bb08f5"
      },
      "outputs": [],
      "source": [
        "# # now look at both latitudinal gradients and tempoeral patterns together\n",
        "\n",
        "# # plot latitudinal gradient over time\n",
        "# foo = fish.pivot_table(columns='date', index='lat', values='fishing_hours_km2', aggfunc=np.sum)\n",
        "# foo = foo.loc[::-1] # inverse rows\n",
        "# foo.reindex(np.arange(-90, 90, 1)) # expand index range\n",
        "\n",
        "# # find column positions that are Jan 1\n",
        "# pos = np.where(foo.columns.strftime('%m-%d') == '01-01')[0]\n",
        "\n",
        "# plt.figure(figsize=(16, 6))\n",
        "# ax = sns.heatmap(foo, cmap=\"magma_r\", cbar_kws={'label':'Fishing hours / km2'})\n",
        "\n",
        "# plt.xlabel('Year')\n",
        "# plt.ylabel('Latitude')\n",
        "# plt.yticks([0,45,90,135,180], [90,45,0,-45,-90])\n",
        "# plt.xticks(pos, foo.columns[pos].strftime('%Y'), rotation=0);"
      ]
    },
    {
      "cell_type": "markdown",
      "id": "d3623c5d",
      "metadata": {
        "id": "d3623c5d"
      },
      "source": [
        "**Q:** Observe the spatial patterns of fishing activities by fishing gear type and discuss the possible drivers. Choose fishing gear from {`squid_jigger`, `drifting_longlines`, `trawlers`, `tuna_purse_seines`}."
      ]
    },
    {
      "cell_type": "code",
      "execution_count": null,
      "id": "c6ea6441",
      "metadata": {
        "id": "c6ea6441"
      },
      "outputs": [],
      "source": [
        "# select a gear and sum within grids\n",
        "gear_name = 'tuna_purse_seines'\n",
        "summary = fish.loc[fish['gear']==gear_name, ['lat', 'lon', 'fishing_hours_km2']].groupby(['lat', 'lon']).sum()\n",
        "\n",
        "# convert to xarray object for plotting\n",
        "foo = summary.to_xarray()\n",
        "foo['lat'] = foo['lat'].astype(int)\n",
        "foo['lon'] = foo['lon'].astype(int)\n",
        "\n",
        "# plot on a log scale\n",
        "plt.figure(figsize=(16, 6))\n",
        "ax = plt.axes(projection=ccrs.PlateCarree())\n",
        "foo['fishing_hours_km2'].plot(cmap=\"magma_r\",\n",
        "    norm=LogNorm(vmin=foo['fishing_hours_km2'].max()*1e-3, vmax=foo['fishing_hours_km2'].max()),\n",
        "    ax=ax, zorder=-1, add_colorbar=False)\n",
        "ax.axes.add_feature(cf.LAND, color='#000', linewidth=0);"
      ]
    },
    {
      "cell_type": "markdown",
      "id": "3b0a8b55",
      "metadata": {
        "id": "3b0a8b55"
      },
      "source": [
        "## II. Explore Drivers Underlying Fishing Effort\n",
        "### II.a. Biological drivers\n",
        "Considering that humans are the top fish predators equipped with highly-advanced sensors, fishing activity should be strongly correlated with the fish distribution. However, we lack global data on fish distribution to support this. Therefore, we will look at a known correlate of fish abundance &mdash; primary production, which can be measured as chlorophyll a, a pigment in phytoplankton used for photosynthesis.\n",
        "\n",
        "In this course, we will use NASA MODIS satellite imagery, pre-downloaded and pre-processed. MODIS (Moderate Resolution Imaging Spectroradiometer) satellite measures surface reflectance (color and temperature) in 36 spectral bands at spatial resolutions ranging from 250 m to 1 km, depending on the bands. The swath can cover the entire Earth in 1-2 days. We will use MODIS AQUA data."
      ]
    },
    {
      "cell_type": "markdown",
      "id": "f74c10df",
      "metadata": {
        "id": "f74c10df"
      },
      "source": [
        "**Q:** Test whether chlorophyll a explains fishing activity along latitudes using a linear regression. Do the same for each fishing gear type (`trawlers`, `tuna_purse_seines`, `squid_jiggers`, `drifting_longlines`). "
      ]
    },
    {
      "cell_type": "code",
      "execution_count": null,
      "id": "b5946432",
      "metadata": {
        "id": "b5946432"
      },
      "outputs": [],
      "source": [
        "# read ocean climate data\n",
        "modis = pd.read_parquet('./taking_the_pulse_ocean_data/modis.parquet')\n",
        "modis.head()"
      ]
    },
    {
      "cell_type": "code",
      "execution_count": null,
      "id": "eaf66704",
      "metadata": {
        "id": "eaf66704"
      },
      "outputs": [],
      "source": [
        "# convert month to datetime\n",
        "modis['year_month'] = pd.to_datetime(modis['month'], format='%Y-%m')\n",
        "modis.head()"
      ]
    },
    {
      "cell_type": "code",
      "source": [
        "# plot a monthly mean\n",
        "group_month = modis.groupby('year_month')\n",
        "months = list(group_month.groups.keys())\n",
        "tmp = group_month.get_group(months[0])\n",
        "summary = tmp[['lat', 'lon', 'chlor_a', 'sst']].groupby(['lat', 'lon']).mean()\n",
        "\n",
        "# convert to xarray object for plotting\n",
        "foo = summary.to_xarray()\n",
        "foo['lat'] = foo['lat'].astype(int)\n",
        "foo['lon'] = foo['lon'].astype(int)\n",
        "\n",
        "# plot on a log scale\n",
        "fig = plt.figure(figsize=(16, 6))\n",
        "ax = plt.axes(projection=ccrs.PlateCarree())\n",
        "ax.axes.add_feature(cf.LAND, color='#000', linewidth=0);\n",
        "foo['sst'].plot(cmap=\"viridis\", ax=ax, add_colorbar=False)"
      ],
      "metadata": {
        "id": "Ek0ZZOd_IX0t"
      },
      "id": "Ek0ZZOd_IX0t",
      "execution_count": null,
      "outputs": []
    },
    {
      "cell_type": "code",
      "execution_count": null,
      "id": "18dc5d2f",
      "metadata": {
        "id": "18dc5d2f"
      },
      "outputs": [],
      "source": [
        "# latitudinal trend\n",
        "\n",
        "# mean chlorophyll a within each latitude\n",
        "foo = modis[['lat', 'chlor_a']].groupby('lat').mean()\n",
        "\n",
        "# total fishing hours within each latitude\n",
        "bar = fish[['lat', 'fishing_hours_km2']].groupby('lat').sum()\n",
        "\n",
        "# merge on index\n",
        "foo['fishing_hours_km2'] = bar['fishing_hours_km2']\n",
        "foo.reset_index(inplace=True)\n",
        "\n",
        "# plot\n",
        "fig = plt.figure(figsize=(6, 6))\n",
        "\n",
        "ax1 = fig.add_subplot(121)\n",
        "ax2 = fig.add_subplot(122)\n",
        "\n",
        "ax1.plot('chlor_a', 'lat', data=foo, marker='o')\n",
        "ax1.title.set_text('Chlorophyll a (mg m-3)')\n",
        "\n",
        "ax2.plot('fishing_hours_km2', 'lat', data=foo, marker='o')\n",
        "ax2.title.set_text('Fishing hours (km-2)')\n",
        "for ax in [ax1, ax2]:\n",
        "  ax.set_ylim(-90, 90)\n",
        "# plt.show()"
      ]
    },
    {
      "cell_type": "code",
      "execution_count": null,
      "id": "2e9b6c55",
      "metadata": {
        "id": "2e9b6c55"
      },
      "outputs": [],
      "source": [
        "# linear regression\n",
        "# Is fishing effort explained by chlorophyll a concentration?\n",
        "\n",
        "bar = foo[~foo.chlor_a.isnull()].copy()\n",
        "model = sm.OLS(bar['fishing_hours_km2'], bar['chlor_a'])\n",
        "result = model.fit()\n",
        "print(result.summary())"
      ]
    },
    {
      "cell_type": "code",
      "execution_count": null,
      "id": "d7e45785",
      "metadata": {
        "id": "d7e45785"
      },
      "outputs": [],
      "source": [
        "sns.regplot(x='chlor_a', y='fishing_hours_km2', data=foo);"
      ]
    },
    {
      "cell_type": "markdown",
      "id": "cf0a9417",
      "metadata": {
        "id": "cf0a9417"
      },
      "source": [
        "**Q:** Test how monthly fishing hours are correlated to chlorophyll a using cross correlation analysis."
      ]
    },
    {
      "cell_type": "code",
      "execution_count": null,
      "id": "d092ef80",
      "metadata": {
        "id": "d092ef80"
      },
      "outputs": [],
      "source": [
        "# time series\n",
        "\n",
        "# monthly total fishing hours to make same temporal resolutuions as modis data\n",
        "fish['year'] = fish['date'].dt.year\n",
        "fish['month'] = fish['date'].dt.month\n",
        "fish['year_month'] = pd.to_datetime(fish['year']*100 + fish['month'], format='%Y%m')\n",
        "\n",
        "fish_monthly = fish[['year_month', 'fishing_hours_km2']].groupby('year_month').sum()\n",
        "\n",
        "# monthly mean chlorophyll a \n",
        "foo = modis[['year_month', 'chlor_a']].groupby('year_month').mean()\n",
        "\n",
        "foo['fishing_hours_km2'] = fish_monthly['fishing_hours_km2']\n",
        "foo.reset_index(inplace=True)\n",
        "\n",
        "# plot\n",
        "fig = plt.figure(figsize=(8, 6))\n",
        "\n",
        "ax1 = fig.add_subplot(211)\n",
        "ax2 = fig.add_subplot(212)\n",
        "\n",
        "ax1.plot('year_month', 'chlor_a', data=foo, marker='o')\n",
        "ax1.set_yscale('log')\n",
        "ax1.title.set_text('Chlorophyll a (mg m-3)')\n",
        "ax1.xaxis.set_minor_locator(mdates.MonthLocator(interval=2))\n",
        "\n",
        "ax2.plot('year_month', 'fishing_hours_km2', data=foo, marker='o')\n",
        "ax2.set_yscale('log')\n",
        "ax2.title.set_text('Fishing hours km-2')\n",
        "ax2.xaxis.set_major_locator(mdates.YearLocator())\n",
        "ax2.xaxis.set_minor_locator(mdates.MonthLocator(interval=2))\n",
        "# plt.tight_layout()\n",
        "# plt.show()"
      ]
    },
    {
      "cell_type": "code",
      "execution_count": null,
      "id": "e6525776",
      "metadata": {
        "id": "e6525776"
      },
      "outputs": [],
      "source": [
        "# cross correlation \n",
        "x1 = np.log(foo['chlor_a'])\n",
        "x2 = np.log(foo['fishing_hours_km2'])\n",
        "\n",
        "ccf_forward = sm.tsa.stattools.ccf(x1, x2, adjusted=False)\n",
        "ccf_backward = sm.tsa.stattools.ccf(x2, x1, adjusted=False)[::-1]\n",
        "ccf_output = np.r_[ccf_backward[:-1], ccf_forward]\n",
        "            \n",
        "# plot\n",
        "ccf = pd.DataFrame({'lag':range(-71,72), 'cor':ccf_output})\n",
        "plt.figure(figsize=(6, 3))\n",
        "ax = sns.scatterplot(x='lag', y='cor', data=ccf)\n",
        "ax.stem(ccf['lag'],ccf['cor'], markerfmt=' ')\n",
        "ax.set_xlim(-7, 7)\n",
        "plt.show()"
      ]
    },
    {
      "cell_type": "markdown",
      "id": "fb1a8e52",
      "metadata": {
        "id": "fb1a8e52"
      },
      "source": [
        "**Q:** See how sea surface temperature in the Indian Ocean influences fishing effort."
      ]
    },
    {
      "cell_type": "code",
      "execution_count": null,
      "id": "780a0b65",
      "metadata": {
        "id": "780a0b65"
      },
      "outputs": [],
      "source": [
        "# fishing effort in Indian Ocean\n",
        "\n",
        "fish_io = fish[(fish.lat >= -50) & (fish.lat <= -20) & (fish.lon >=50) & (fish.lon <= 100)].copy()\n",
        "\n",
        "# aggregate over longitudes\n",
        "fish_io = fish_io[['year_month', 'lat', 'fishing_hours_km2']].groupby(['year_month', 'lat']).sum()\n",
        "\n",
        "# latitudinal gradient over time\n",
        "fish_io.reset_index(inplace=True)\n",
        "foo = fish_io.pivot(columns='year_month', index='lat', values='fishing_hours_km2')\n",
        "foo = foo.loc[::-1] # inverse rows\n",
        "foo.reindex(np.arange(-50, -19, 1)) # expand index range\n",
        "\n",
        "# same for SST\n",
        "modis_io = modis[(modis.lat >= -50) & (modis.lat <= -20) & (modis.lon >=50) & (modis.lon <= 100)].copy()\n",
        "\n",
        "# latitudinal gradient over time\n",
        "bar = modis_io.pivot_table(columns='year_month', index='lat', values='sst', aggfunc=np.mean)\n",
        "bar = bar.loc[::-1] # inverse rows\n",
        "\n",
        "# plot\n",
        "pos = np.where(foo.columns.strftime('%m-%d') == '01-01')[0]\n",
        "\n",
        "plt.figure(figsize=(16, 6))\n",
        "ax = sns.heatmap(foo, cmap=\"magma_r\", cbar_kws={'label':'Fishing hours/km2'})\n",
        "a = ax.contour(np.arange(0, bar.shape[1]), np.arange(0, bar.shape[0]), bar, colors='black')\n",
        "ax.clabel(a, inline=True, fontsize=10)\n",
        "plt.xlabel('Year')\n",
        "plt.ylabel('Latitude')\n",
        "plt.yticks([0,10,20,30], [-20,-30,-40,-50])\n",
        "plt.xticks(pos, foo.columns[pos].strftime('%Y'), rotation=0);"
      ]
    },
    {
      "cell_type": "markdown",
      "id": "16c1849a",
      "metadata": {
        "id": "16c1849a"
      },
      "source": [
        "### II.b. Non-biological drivers\n",
        "Fishing activities are also shaped by other factors, such as holidays, COVID, and fuel prices. Also, fishing regulations should influence the activity. How strongly do they influence fishing activities?"
      ]
    },
    {
      "cell_type": "markdown",
      "id": "aaba28ce",
      "metadata": {
        "id": "aaba28ce"
      },
      "source": [
        "**Q:** Explore how fishing activities are influenced by social / cultural events."
      ]
    },
    {
      "cell_type": "code",
      "execution_count": null,
      "id": "01591abb",
      "metadata": {
        "id": "01591abb"
      },
      "outputs": [],
      "source": [
        "# activity of non chinese-flagged vessels\n",
        "other = fish[(fish['flag']!='CHN') | fish['flag'].isnull()].copy()\n",
        "\n",
        "# sum each day\n",
        "other_daily = other[['date', 'fishing_hours']].groupby('date').sum()\n",
        "\n",
        "fig, ax = plt.subplots(1,1, figsize=(16, 6))\n",
        "# sns.lineplot(other_daily, x='date', y='fishing_hours')\n",
        "other_daily.plot(ax=ax)\n",
        "ax.set_xlabel('Year')\n",
        "ax.set_ylabel('Fishing hours');"
      ]
    },
    {
      "cell_type": "code",
      "execution_count": null,
      "id": "01085652",
      "metadata": {
        "id": "01085652"
      },
      "outputs": [],
      "source": [
        "# activity of chinese-flagged vessels\n",
        "china = fish[fish['flag']=='CHN'].copy()\n",
        "# sum each day\n",
        "china_daily = china[['date', 'fishing_hours']].groupby('date').sum()\n",
        "\n",
        "fig, ax = plt.subplots(1,1, figsize=(16, 6))\n",
        "china_daily.plot(ax=ax)\n",
        "\n",
        "ax.set_xlabel('Year')\n",
        "ax.set_ylabel('Fishing hours')\n",
        "ax.legend()"
      ]
    },
    {
      "cell_type": "code",
      "source": [
        "\n",
        "other_daily.plot??"
      ],
      "metadata": {
        "id": "ZUJ1H-eGT2gi"
      },
      "id": "ZUJ1H-eGT2gi",
      "execution_count": null,
      "outputs": []
    },
    {
      "cell_type": "markdown",
      "id": "29295c0d",
      "metadata": {
        "id": "29295c0d"
      },
      "source": [
        "**Q:** Explore how fishing activities are influenced by geospatial regulations. Choose areas from Peru, Folkland Island, Pacific Islands, and West Africa."
      ]
    },
    {
      "cell_type": "code",
      "execution_count": null,
      "id": "fc0d870b",
      "metadata": {
        "id": "fc0d870b"
      },
      "outputs": [],
      "source": [
        "# plot near Peru\n",
        "\n",
        "data = pd.read_parquet('./taking_the_pulse_ocean_data/fishing_hours_peru.parquet')\n",
        "\n",
        "data['area_km2'] = 111 * 111 * np.cos(data['lat'] * np.pi / 180)\n",
        "data['area_km2'] = data['area_km2'].astype(float)\n",
        "data['fishing_hours_km2'] = data['fishing_hours']/data['area_km2']\n",
        "\n",
        "data['date'] = pd.to_datetime(data['date'], format='%Y-%m-%d')\n",
        "\n",
        "# change lat lon to integer (we want to sum within each grid but floating point causes problems when grouping)\n",
        "data['lat'] = (data['lat'].values * 10).astype(int)\n",
        "data['lon'] = (data['lon'].values * 10).astype(int)\n",
        "\n",
        "# sum within each grid\n",
        "summary = data[['lat', 'lon', 'fishing_hours_km2']].groupby(['lat', 'lon']).sum()\n",
        "summary.head()"
      ]
    },
    {
      "cell_type": "code",
      "execution_count": null,
      "id": "276c7769",
      "metadata": {
        "id": "276c7769"
      },
      "outputs": [],
      "source": [
        "# read EEZ shapefile\n",
        "eez = gpd.read_file('./taking_the_pulse_ocean_data/SAU_EEZ')"
      ]
    },
    {
      "cell_type": "code",
      "execution_count": null,
      "id": "2aecafac",
      "metadata": {
        "id": "2aecafac"
      },
      "outputs": [],
      "source": [
        "from shapely.geometry import Polygon\n",
        "centers = []\n",
        "for geom in eez.geometry:\n",
        "    centers.append(geom.centroid)\n",
        "poly = Polygon(((-100, -30), (-60, -30), (-60, 10), (-100, 10), (-100, -30)))\n",
        "# poly = Polygon(((-140, -35), (180, -35), (180, 5), (-140, 10), (-140, -35)))\n",
        "inds = [poly.contains(center) for center in centers]\n",
        "eez_peru = eez[inds]"
      ]
    },
    {
      "cell_type": "code",
      "execution_count": null,
      "id": "a504d456",
      "metadata": {
        "id": "a504d456"
      },
      "outputs": [],
      "source": [
        "# plot\n",
        "# takes a while to plot it up?\n",
        "foo = summary.to_xarray()\n",
        "foo['lat'] = 0.1*foo['lat']   # back to 0.1 degree intervals\n",
        "foo['lon'] = 0.1*foo['lon']\n",
        "\n",
        "# plot on a log scale\n",
        "plt.figure(figsize=(10, 10))\n",
        "ax = plt.axes(projection=ccrs.PlateCarree())\n",
        "ax.set_extent([-100, -60, -30, 10])     # Peru (left, right, bottom, top)\n",
        "# ax.set_extent([-70, -30, -70, -30])   # Falkland islands\n",
        "# ax.set_extent([-40, 0, -10, 30])   # West Africa\n",
        "# ax.set_extent([140, 180, -35, 5])   # Pacific islands\n",
        "foo['fishing_hours_km2'].plot(\n",
        "    cmap=\"magma_r\",\n",
        "    norm=LogNorm(vmin=0.0001, vmax=foo['fishing_hours_km2'].max()),\n",
        "    ax=ax, zorder=-1, \n",
        "    add_colorbar=True\n",
        ")\n",
        "eez_peru['geometry'].boundary.plot(ax=ax, color='black', linestyle='dashed', zorder=-1)\n",
        "ax.add_feature(cf.LAND, linewidth=0)\n",
        "ax.add_feature(cf.BORDERS)\n",
        "ax.add_feature(cf.COASTLINE);"
      ]
    },
    {
      "cell_type": "markdown",
      "id": "0a5ccec9",
      "metadata": {
        "id": "0a5ccec9"
      },
      "source": [
        "## III. Taking the Pulse in the Future\n",
        "In this assignment, we worked with what we have in terms of sensors and data analysis workflows. If you were given $1 million to develop a new form of sensor or new form of data analysis, what would you do? This can be research, field work, fabrication of sensors, etc. Think about what you would measure, at what spatial and temporal scale and resolution. Over to you to design the next generation of sensors for taking the pulse of our oceans and fishing activity."
      ]
    },
    {
      "cell_type": "markdown",
      "id": "c16fa04e",
      "metadata": {
        "id": "c16fa04e"
      },
      "source": [
        "---\n",
        "## Suuplement\n",
        "How to access original Global Fishing Watch data & NASA MODIS Terra data\n",
        "#### Global Fishing Watch\n",
        "- Online web map on their [website](https://globalfishingwatch.org/our-map/)\n",
        "- R package `gfwr` ([link](https://github.com/GlobalFishingWatch/gfwr)) &mdash; an R API to download fishing data. Note that this is still at an early development stage.\n",
        "\n",
        "#### NASA MODIS data\n",
        "- The easiest way is to access the data on [Google Earth Engine](https://developers.google.com/earth-engine/datasets) through a Python API `earthengine-api` ([link](https://github.com/google/earthengine-api))\n",
        "- You can also find the data on other repositories including [Amazon Web Service](https://aws.amazon.com/opendata/?wwps-cards.sort-by=item.additionalFields.sortDate&wwps-cards.sort-order=desc) or [Copernicus](https://cds.climate.copernicus.eu), or original data [NASA website](https://oceancolor.gsfc.nasa.gov)."
      ]
    },
    {
      "cell_type": "markdown",
      "id": "203a43b1",
      "metadata": {
        "id": "203a43b1"
      },
      "source": [
        "(Note that AIS is mandated only for distant-water fleets engaging on international voyages, and therefore, it does not cover small-scale/artisanal fisheries in coastal areas and within EEZ. Also, some areas have low AIS coverage, including Southeastern Asia and the Gulf of Mexico. AIS devices can be tampered with or turned off.)"
      ]
    },
    {
      "cell_type": "markdown",
      "id": "f7180cc8",
      "metadata": {
        "id": "f7180cc8"
      },
      "source": [
        "(Note that high primary production does not always favor fish growth. A combination of high temperature and nutrient runoff can cause harmful algal blooms, leading to hypoxic dead zones and fish kills. If you are interested, you can explore the relationship between chlorophyll-a `chlor_a`, sea surface temperature `sst` and particulate organic carbon `poc`, in MODIS data.)"
      ]
    }
  ],
  "metadata": {
    "kernelspec": {
      "display_name": "Python 3 (ipykernel)",
      "language": "python",
      "name": "python3"
    },
    "language_info": {
      "codemirror_mode": {
        "name": "ipython",
        "version": 3
      },
      "file_extension": ".py",
      "mimetype": "text/x-python",
      "name": "python",
      "nbconvert_exporter": "python",
      "pygments_lexer": "ipython3",
      "version": "3.9.5"
    },
    "colab": {
      "provenance": [],
      "include_colab_link": true
    }
  },
  "nbformat": 4,
  "nbformat_minor": 5
}